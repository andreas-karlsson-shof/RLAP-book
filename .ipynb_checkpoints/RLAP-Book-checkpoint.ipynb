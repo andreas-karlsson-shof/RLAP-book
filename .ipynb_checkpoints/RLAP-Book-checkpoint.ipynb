{
 "cells": [
  {
   "cell_type": "code",
   "execution_count": 2,
   "id": "8563aa4a",
   "metadata": {},
   "outputs": [],
   "source": [
    "from abc import ABC, abstractmethod"
   ]
  },
  {
   "cell_type": "code",
   "execution_count": 1,
   "id": "42981439",
   "metadata": {},
   "outputs": [],
   "source": [
    "from random import randint\n",
    "def six_sided():\n",
    "    return randint(1, 6)\n",
    "\n",
    "def roll_dice():\n",
    "    return six_sided() + six_sided()"
   ]
  },
  {
   "cell_type": "code",
   "execution_count": 3,
   "id": "ea06db73",
   "metadata": {},
   "outputs": [],
   "source": [
    "class Distribution(ABC):\n",
    "    @abstractmethod\n",
    "    def sample(self):\n",
    "        pass"
   ]
  },
  {
   "cell_type": "code",
   "execution_count": 4,
   "id": "7d4c10e9",
   "metadata": {},
   "outputs": [],
   "source": [
    "import random\n",
    "class Die(Distribution):\n",
    "    def __init__(self, sides):\n",
    "        self.sides = sides\n",
    "    def sample(self):\n",
    "        return random.randint(1, self.sides)\n",
    "\n",
    "six_sided = Die(6)\n",
    "def roll_dice():\n",
    "    return six_sided.sample() + six_sided.sample()"
   ]
  },
  {
   "cell_type": "code",
   "execution_count": null,
   "id": "b8a84879",
   "metadata": {},
   "outputs": [],
   "source": []
  },
  {
   "cell_type": "code",
   "execution_count": null,
   "id": "2f080889",
   "metadata": {},
   "outputs": [],
   "source": []
  },
  {
   "cell_type": "code",
   "execution_count": null,
   "id": "7f84fab4",
   "metadata": {},
   "outputs": [],
   "source": []
  }
 ],
 "metadata": {
  "kernelspec": {
   "display_name": "Python 3 (ipykernel)",
   "language": "python",
   "name": "python3"
  },
  "language_info": {
   "codemirror_mode": {
    "name": "ipython",
    "version": 3
   },
   "file_extension": ".py",
   "mimetype": "text/x-python",
   "name": "python",
   "nbconvert_exporter": "python",
   "pygments_lexer": "ipython3",
   "version": "3.10.6"
  }
 },
 "nbformat": 4,
 "nbformat_minor": 5
}
